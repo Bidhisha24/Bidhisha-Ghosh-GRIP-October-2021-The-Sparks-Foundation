{
 "cells": [
  {
   "cell_type": "markdown",
   "id": "cff92a10",
   "metadata": {},
   "source": [
    "# Bidhisha Ghosh\n",
    "***"
   ]
  },
  {
   "cell_type": "markdown",
   "id": "25d4942c",
   "metadata": {},
   "source": [
    "## *Data Science And Business Analytics Intern, GRIP October 2021 Batch*"
   ]
  },
  {
   "cell_type": "markdown",
   "id": "12e47133",
   "metadata": {},
   "source": [
    "## *GRIP @The Sparks Foundation*\n",
    "******"
   ]
  },
  {
   "cell_type": "markdown",
   "id": "be14f685",
   "metadata": {},
   "source": [
    "# Task 1: Prediction Using Supervised ML\n",
    "***"
   ]
  },
  {
   "cell_type": "markdown",
   "id": "9621105e",
   "metadata": {},
   "source": [
    "The Domain of my Internship with The Sparks Foundation is Data Science And Business Analytics. The Task 1 under this domain is Prediction Using Supervised ML. "
   ]
  },
  {
   "cell_type": "markdown",
   "id": "33cf1a2a",
   "metadata": {},
   "source": [
    "## **Objective: To predict the percentage scores obtained by a student based on the number of study hours using Simple Linear Regression** "
   ]
  },
  {
   "cell_type": "markdown",
   "id": "2f42e94c",
   "metadata": {},
   "source": [
    "**1. Knowing and visualising the Data**"
   ]
  },
  {
   "cell_type": "markdown",
   "id": "784b4b31",
   "metadata": {},
   "source": [
    "To do this task, we first read the data file using the pandas library as follows:"
   ]
  },
  {
   "cell_type": "code",
   "execution_count": 104,
   "id": "698ada73",
   "metadata": {},
   "outputs": [
    {
     "data": {
      "text/html": [
       "<div>\n",
       "<style scoped>\n",
       "    .dataframe tbody tr th:only-of-type {\n",
       "        vertical-align: middle;\n",
       "    }\n",
       "\n",
       "    .dataframe tbody tr th {\n",
       "        vertical-align: top;\n",
       "    }\n",
       "\n",
       "    .dataframe thead th {\n",
       "        text-align: right;\n",
       "    }\n",
       "</style>\n",
       "<table border=\"1\" class=\"dataframe\">\n",
       "  <thead>\n",
       "    <tr style=\"text-align: right;\">\n",
       "      <th></th>\n",
       "      <th>Hours</th>\n",
       "      <th>Scores</th>\n",
       "    </tr>\n",
       "  </thead>\n",
       "  <tbody>\n",
       "    <tr>\n",
       "      <th>0</th>\n",
       "      <td>2.5</td>\n",
       "      <td>21</td>\n",
       "    </tr>\n",
       "    <tr>\n",
       "      <th>1</th>\n",
       "      <td>5.1</td>\n",
       "      <td>47</td>\n",
       "    </tr>\n",
       "    <tr>\n",
       "      <th>2</th>\n",
       "      <td>3.2</td>\n",
       "      <td>27</td>\n",
       "    </tr>\n",
       "    <tr>\n",
       "      <th>3</th>\n",
       "      <td>8.5</td>\n",
       "      <td>75</td>\n",
       "    </tr>\n",
       "    <tr>\n",
       "      <th>4</th>\n",
       "      <td>3.5</td>\n",
       "      <td>30</td>\n",
       "    </tr>\n",
       "    <tr>\n",
       "      <th>5</th>\n",
       "      <td>1.5</td>\n",
       "      <td>20</td>\n",
       "    </tr>\n",
       "    <tr>\n",
       "      <th>6</th>\n",
       "      <td>9.2</td>\n",
       "      <td>88</td>\n",
       "    </tr>\n",
       "    <tr>\n",
       "      <th>7</th>\n",
       "      <td>5.5</td>\n",
       "      <td>60</td>\n",
       "    </tr>\n",
       "    <tr>\n",
       "      <th>8</th>\n",
       "      <td>8.3</td>\n",
       "      <td>81</td>\n",
       "    </tr>\n",
       "    <tr>\n",
       "      <th>9</th>\n",
       "      <td>2.7</td>\n",
       "      <td>25</td>\n",
       "    </tr>\n",
       "    <tr>\n",
       "      <th>10</th>\n",
       "      <td>7.7</td>\n",
       "      <td>85</td>\n",
       "    </tr>\n",
       "    <tr>\n",
       "      <th>11</th>\n",
       "      <td>5.9</td>\n",
       "      <td>62</td>\n",
       "    </tr>\n",
       "    <tr>\n",
       "      <th>12</th>\n",
       "      <td>4.5</td>\n",
       "      <td>41</td>\n",
       "    </tr>\n",
       "    <tr>\n",
       "      <th>13</th>\n",
       "      <td>3.3</td>\n",
       "      <td>42</td>\n",
       "    </tr>\n",
       "    <tr>\n",
       "      <th>14</th>\n",
       "      <td>1.1</td>\n",
       "      <td>17</td>\n",
       "    </tr>\n",
       "    <tr>\n",
       "      <th>15</th>\n",
       "      <td>8.9</td>\n",
       "      <td>95</td>\n",
       "    </tr>\n",
       "    <tr>\n",
       "      <th>16</th>\n",
       "      <td>2.5</td>\n",
       "      <td>30</td>\n",
       "    </tr>\n",
       "    <tr>\n",
       "      <th>17</th>\n",
       "      <td>1.9</td>\n",
       "      <td>24</td>\n",
       "    </tr>\n",
       "    <tr>\n",
       "      <th>18</th>\n",
       "      <td>6.1</td>\n",
       "      <td>67</td>\n",
       "    </tr>\n",
       "    <tr>\n",
       "      <th>19</th>\n",
       "      <td>7.4</td>\n",
       "      <td>69</td>\n",
       "    </tr>\n",
       "    <tr>\n",
       "      <th>20</th>\n",
       "      <td>2.7</td>\n",
       "      <td>30</td>\n",
       "    </tr>\n",
       "    <tr>\n",
       "      <th>21</th>\n",
       "      <td>4.8</td>\n",
       "      <td>54</td>\n",
       "    </tr>\n",
       "    <tr>\n",
       "      <th>22</th>\n",
       "      <td>3.8</td>\n",
       "      <td>35</td>\n",
       "    </tr>\n",
       "    <tr>\n",
       "      <th>23</th>\n",
       "      <td>6.9</td>\n",
       "      <td>76</td>\n",
       "    </tr>\n",
       "    <tr>\n",
       "      <th>24</th>\n",
       "      <td>7.8</td>\n",
       "      <td>86</td>\n",
       "    </tr>\n",
       "  </tbody>\n",
       "</table>\n",
       "</div>"
      ],
      "text/plain": [
       "    Hours   Scores\n",
       "0      2.5      21\n",
       "1      5.1      47\n",
       "2      3.2      27\n",
       "3      8.5      75\n",
       "4      3.5      30\n",
       "5      1.5      20\n",
       "6      9.2      88\n",
       "7      5.5      60\n",
       "8      8.3      81\n",
       "9      2.7      25\n",
       "10     7.7      85\n",
       "11     5.9      62\n",
       "12     4.5      41\n",
       "13     3.3      42\n",
       "14     1.1      17\n",
       "15     8.9      95\n",
       "16     2.5      30\n",
       "17     1.9      24\n",
       "18     6.1      67\n",
       "19     7.4      69\n",
       "20     2.7      30\n",
       "21     4.8      54\n",
       "22     3.8      35\n",
       "23     6.9      76\n",
       "24     7.8      86"
      ]
     },
     "execution_count": 104,
     "metadata": {},
     "output_type": "execute_result"
    }
   ],
   "source": [
    "import pandas as pd\n",
    "datafile=pd.read_csv(\"C:\\\\Users\\\\USER\\\\Desktop\\\\grip_Data1.csv\")\n",
    "datafile"
   ]
  },
  {
   "cell_type": "markdown",
   "id": "3ff27a4e",
   "metadata": {},
   "source": [
    "In the above dataset, we can see that there are 2 columns, namely \"Hours\" and \"Scores\" which denotes the number of Study hours and percentage scores obtained by a student respectively. Here, \"Hours\" is the independent variable *x* and \"Scores\" is the dependent variable *y*. The data consists of 25 observations of (x,y)."
   ]
  },
  {
   "cell_type": "markdown",
   "id": "40b4c562",
   "metadata": {},
   "source": [
    "The following gives more details about our dataset."
   ]
  },
  {
   "cell_type": "code",
   "execution_count": 105,
   "id": "c5b2ca04",
   "metadata": {},
   "outputs": [
    {
     "data": {
      "text/html": [
       "<div>\n",
       "<style scoped>\n",
       "    .dataframe tbody tr th:only-of-type {\n",
       "        vertical-align: middle;\n",
       "    }\n",
       "\n",
       "    .dataframe tbody tr th {\n",
       "        vertical-align: top;\n",
       "    }\n",
       "\n",
       "    .dataframe thead th {\n",
       "        text-align: right;\n",
       "    }\n",
       "</style>\n",
       "<table border=\"1\" class=\"dataframe\">\n",
       "  <thead>\n",
       "    <tr style=\"text-align: right;\">\n",
       "      <th></th>\n",
       "      <th>Hours</th>\n",
       "      <th>Scores</th>\n",
       "    </tr>\n",
       "  </thead>\n",
       "  <tbody>\n",
       "    <tr>\n",
       "      <th>count</th>\n",
       "      <td>25.000000</td>\n",
       "      <td>25.000000</td>\n",
       "    </tr>\n",
       "    <tr>\n",
       "      <th>mean</th>\n",
       "      <td>5.012000</td>\n",
       "      <td>51.480000</td>\n",
       "    </tr>\n",
       "    <tr>\n",
       "      <th>std</th>\n",
       "      <td>2.525094</td>\n",
       "      <td>25.286887</td>\n",
       "    </tr>\n",
       "    <tr>\n",
       "      <th>min</th>\n",
       "      <td>1.100000</td>\n",
       "      <td>17.000000</td>\n",
       "    </tr>\n",
       "    <tr>\n",
       "      <th>25%</th>\n",
       "      <td>2.700000</td>\n",
       "      <td>30.000000</td>\n",
       "    </tr>\n",
       "    <tr>\n",
       "      <th>50%</th>\n",
       "      <td>4.800000</td>\n",
       "      <td>47.000000</td>\n",
       "    </tr>\n",
       "    <tr>\n",
       "      <th>75%</th>\n",
       "      <td>7.400000</td>\n",
       "      <td>75.000000</td>\n",
       "    </tr>\n",
       "    <tr>\n",
       "      <th>max</th>\n",
       "      <td>9.200000</td>\n",
       "      <td>95.000000</td>\n",
       "    </tr>\n",
       "  </tbody>\n",
       "</table>\n",
       "</div>"
      ],
      "text/plain": [
       "          Hours      Scores\n",
       "count  25.000000  25.000000\n",
       "mean    5.012000  51.480000\n",
       "std     2.525094  25.286887\n",
       "min     1.100000  17.000000\n",
       "25%     2.700000  30.000000\n",
       "50%     4.800000  47.000000\n",
       "75%     7.400000  75.000000\n",
       "max     9.200000  95.000000"
      ]
     },
     "execution_count": 105,
     "metadata": {},
     "output_type": "execute_result"
    }
   ],
   "source": [
    "datafile.describe()"
   ]
  },
  {
   "cell_type": "markdown",
   "id": "31423477",
   "metadata": {},
   "source": [
    "Next, we visualize the data using the matplotlib library. "
   ]
  },
  {
   "cell_type": "code",
   "execution_count": 108,
   "id": "722d1d89",
   "metadata": {},
   "outputs": [
    {
     "data": {
      "image/png": "[encoded data removed]",
      "text/plain": [
       "<Figure size 432x288 with 1 Axes>"
      ]
     },
     "metadata": {
      "needs_background": "light"
     },
     "output_type": "display_data"
    }
   ],
   "source": [
    "import matplotlib.pyplot as plt\n",
    "x=datafile.iloc[:,:-1].values\n",
    "y=datafile.iloc[:,1].values\n",
    "plt.scatter(x,y)\n",
    "plt.title(\"Graph of Percentage Scores obtained vs Number of study hours\\n\")\n",
    "plt.xlabel(\"Number of Study Hours\")\n",
    "plt.ylabel(\"Percentage Scores obtained\")\n",
    "plt.show()"
   ]
  },
  {
   "cell_type": "markdown",
   "id": "82be2d65",
   "metadata": {},
   "source": [
    "From the above plot, we can clearly observe a linear relationship between the dependent (\"Scores\") and the independent (\"Hours\") variables. Thus, a linear model is most suitable for the given data."
   ]
  },
  {
   "cell_type": "markdown",
   "id": "f0cabd44",
   "metadata": {},
   "source": [
    "**2. Preprocessing the Data and Model Development**"
   ]
  },
  {
   "cell_type": "markdown",
   "id": "f9b045bc",
   "metadata": {},
   "source": [
    "Next we divide the entire dataset into Training and Testing Sets. 80% of the whole data is included in the Training set and the remaining 20% forms the Testing set. For this we use the train_test_split() function from sklearn.model_selection library."
   ]
  },
  {
   "cell_type": "code",
   "execution_count": 122,
   "id": "a3f2b229",
   "metadata": {},
   "outputs": [],
   "source": [
    "from sklearn.model_selection import train_test_split\n",
    "train_x, test_x, train_y, test_y=train_test_split(x,y,train_size=0.80, test_size=0.20, random_state=0)"
   ]
  },
  {
   "cell_type": "markdown",
   "id": "4b37b768",
   "metadata": {},
   "source": [
    "Now we fit a Simple Linear Regression model to the training set of data using LinearRegression() from sklearn.linear_model library."
   ]
  },
  {
   "cell_type": "code",
   "execution_count": 123,
   "id": "d194ac50",
   "metadata": {},
   "outputs": [],
   "source": [
    "from sklearn.linear_model import LinearRegression\n",
    "model=LinearRegression()\n",
    "model.fit(train_x, train_y)\n",
    "predicted_y=model.predict(train_x)"
   ]
  },
  {
   "cell_type": "markdown",
   "id": "7851e45c",
   "metadata": {},
   "source": [
    "We next find the equation of the regression line and plot the data along with the regression line."
   ]
  },
  {
   "cell_type": "code",
   "execution_count": 124,
   "id": "fb43b424",
   "metadata": {},
   "outputs": [
    {
     "data": {
      "image/png": "[encoded data removed]",
      "text/plain": [
       "<Figure size 432x288 with 1 Axes>"
      ]
     },
     "metadata": {
      "needs_background": "light"
     },
     "output_type": "display_data"
    }
   ],
   "source": [
    "reg_line=model.coef_*train_x+model.intercept_\n",
    "plt.scatter(x,y)\n",
    "plt.plot(train_x,reg_line, color=\"red\")\n",
    "plt.title(\"Regression line fitted on the data\\n\")\n",
    "plt.xlabel(\"Hours\")\n",
    "plt.ylabel(\"Scores\")\n",
    "plt.show()"
   ]
  },
  {
   "cell_type": "markdown",
   "id": "d293ddcb",
   "metadata": {},
   "source": [
    "**3. Comparison between the actual and predicted values.**"
   ]
  },
  {
   "cell_type": "markdown",
   "id": "fde8429b",
   "metadata": {},
   "source": [
    "We can now compare the values predicted by the linear model to the actual values using the testing set of the data."
   ]
  },
  {
   "cell_type": "code",
   "execution_count": 125,
   "id": "17168cd7",
   "metadata": {},
   "outputs": [
    {
     "data": {
      "text/html": [
       "<div>\n",
       "<style scoped>\n",
       "    .dataframe tbody tr th:only-of-type {\n",
       "        vertical-align: middle;\n",
       "    }\n",
       "\n",
       "    .dataframe tbody tr th {\n",
       "        vertical-align: top;\n",
       "    }\n",
       "\n",
       "    .dataframe thead th {\n",
       "        text-align: right;\n",
       "    }\n",
       "</style>\n",
       "<table border=\"1\" class=\"dataframe\">\n",
       "  <thead>\n",
       "    <tr style=\"text-align: right;\">\n",
       "      <th></th>\n",
       "      <th>Actual</th>\n",
       "      <th>Predicted</th>\n",
       "    </tr>\n",
       "  </thead>\n",
       "  <tbody>\n",
       "    <tr>\n",
       "      <th>0</th>\n",
       "      <td>20</td>\n",
       "      <td>16.884145</td>\n",
       "    </tr>\n",
       "    <tr>\n",
       "      <th>1</th>\n",
       "      <td>27</td>\n",
       "      <td>33.732261</td>\n",
       "    </tr>\n",
       "    <tr>\n",
       "      <th>2</th>\n",
       "      <td>69</td>\n",
       "      <td>75.357018</td>\n",
       "    </tr>\n",
       "    <tr>\n",
       "      <th>3</th>\n",
       "      <td>30</td>\n",
       "      <td>26.794801</td>\n",
       "    </tr>\n",
       "    <tr>\n",
       "      <th>4</th>\n",
       "      <td>62</td>\n",
       "      <td>60.491033</td>\n",
       "    </tr>\n",
       "  </tbody>\n",
       "</table>\n",
       "</div>"
      ],
      "text/plain": [
       "   Actual  Predicted\n",
       "0      20  16.884145\n",
       "1      27  33.732261\n",
       "2      69  75.357018\n",
       "3      30  26.794801\n",
       "4      62  60.491033"
      ]
     },
     "execution_count": 125,
     "metadata": {},
     "output_type": "execute_result"
    }
   ],
   "source": [
    "y_pred=model.predict(test_x)\n",
    "compare=pd.DataFrame({\"Actual\":test_y, \"Predicted\":y_pred})\n",
    "compare"
   ]
  },
  {
   "cell_type": "code",
   "execution_count": 126,
   "id": "dcda1954",
   "metadata": {},
   "outputs": [
    {
     "data": {
      "image/png": "[encoded data removed]",
      "text/plain": [
       "<Figure size 504x504 with 1 Axes>"
      ]
     },
     "metadata": {
      "needs_background": "light"
     },
     "output_type": "display_data"
    }
   ],
   "source": [
    "compare.plot(kind=\"bar\", figsize=(7,7),color=(\"red\",\"black\"))\n",
    "plt.title(\"Comparison between actual values of y and the predicted values of y\\n\")\n",
    "plt.xlabel(\"Index\")\n",
    "plt.ylabel(\"Scores\")\n",
    "plt.grid(which=\"major\", linewidth='0.5', color=\"grey\")\n",
    "plt.show()"
   ]
  },
  {
   "cell_type": "markdown",
   "id": "1b0806dd",
   "metadata": {},
   "source": [
    "**4. Model Checking**"
   ]
  },
  {
   "cell_type": "markdown",
   "id": "449a8493",
   "metadata": {},
   "source": [
    "At this stage, we check the quality or goodness of fit of the model using Mean Squared Error, Mean Absolute Error and R squared values. For a good model, the Mean Squared Error and the Mean Absolute Error must be minimum and the R squared values for the training set and the test set must be as close as possible to each other. For this we use mean_squared_error, mean_absolute_error and r2_score from sklearn.metrics library."
   ]
  },
  {
   "cell_type": "code",
   "execution_count": 127,
   "id": "eb44d697",
   "metadata": {},
   "outputs": [
    {
     "name": "stdout",
     "output_type": "stream",
     "text": [
      "Mean Squared Error for the model is:\n",
      "21.5987693072174\n"
     ]
    }
   ],
   "source": [
    "from sklearn import metrics\n",
    "print(\"Mean Squared Error for the model is:\")\n",
    "print(metrics.mean_squared_error(test_y,y_pred))"
   ]
  },
  {
   "cell_type": "code",
   "execution_count": 128,
   "id": "cf22794f",
   "metadata": {},
   "outputs": [
    {
     "name": "stdout",
     "output_type": "stream",
     "text": [
      "Mean Absolute Error for the model is:\n",
      "4.183859899002975\n"
     ]
    }
   ],
   "source": [
    "from sklearn import metrics\n",
    "print(\"Mean Absolute Error for the model is:\")\n",
    "print(metrics.mean_absolute_error(test_y,y_pred))"
   ]
  },
  {
   "cell_type": "code",
   "execution_count": 131,
   "id": "feb8c811",
   "metadata": {},
   "outputs": [
    {
     "name": "stdout",
     "output_type": "stream",
     "text": [
      "The R squared score for the training set is:\n",
      "0.9515510725211552\n"
     ]
    }
   ],
   "source": [
    "print(\"The R squared score for the training set is:\")\n",
    "print(model.score(train_x, train_y))"
   ]
  },
  {
   "cell_type": "code",
   "execution_count": 132,
   "id": "94364a2f",
   "metadata": {},
   "outputs": [
    {
     "name": "stdout",
     "output_type": "stream",
     "text": [
      "The R squared score for the testing set is:\n",
      "0.9454906892105356\n"
     ]
    }
   ],
   "source": [
    "print(\"The R squared score for the testing set is:\")\n",
    "print(model.score(test_x, test_y))"
   ]
  },
  {
   "cell_type": "markdown",
   "id": "330ef389",
   "metadata": {},
   "source": [
    "The goodness of fit of a model depends on the R squared score of testing data. In our model, the testing set has a R squared value of 94.5%. This means that our linear model can explain 94.5% of the variation in the dependent variable (Percentage Scores of student) based on the independent variable (Number of hours of study). "
   ]
  },
  {
   "cell_type": "markdown",
   "id": "12b9a06b",
   "metadata": {},
   "source": [
    "**5. Predict the Percentage score of a student who studies for 9.25 hrs/day**"
   ]
  },
  {
   "cell_type": "code",
   "execution_count": 136,
   "id": "882444b3",
   "metadata": {},
   "outputs": [
    {
     "name": "stdout",
     "output_type": "stream",
     "text": [
      "The Expected Percentage score of a student studying for 9.25 hrs/day is  [93.69173249]\n"
     ]
    }
   ],
   "source": [
    "print(\"The Expected Percentage score of a student studying for 9.25 hrs/day is \", model.predict([[9.25]]))"
   ]
  },
  {
   "cell_type": "markdown",
   "id": "bd5b0f75",
   "metadata": {},
   "source": [
    "## Conclusion\n",
    "***"
   ]
  },
  {
   "cell_type": "markdown",
   "id": "aee12768",
   "metadata": {},
   "source": [
    "***In this task, we fitted the best fit linear model and evaluated the model to check its goodness of fit. On doing this, we found a 94.5% R squared value for the testing set which is an excellent score. We also conclude from the fitted model that a student studying for 9.25 hrs/day is expected to score 93.69%.***"
   ]
  },
  {
   "cell_type": "markdown",
   "id": "c3111ba7",
   "metadata": {},
   "source": [
    "**Hence the Task 1 (Prediction Using Supervised ML) under Data Science and Business Analytics Domain has been completed.**"
   ]
  },
  {
   "cell_type": "markdown",
   "id": "aa6d1d5d",
   "metadata": {},
   "source": [
    "## Thank You"
   ]
  },
  {
   "cell_type": "code",
   "execution_count": null,
   "id": "cbfa0bb7",
   "metadata": {},
   "outputs": [],
   "source": []
  }
 ],
 "metadata": {
  "kernelspec": {
   "display_name": "Python 3",
   "language": "python",
   "name": "python3"
  },
  "language_info": {
   "codemirror_mode": {
    "name": "ipython",
    "version": 3
   },
   "file_extension": ".py",
   "mimetype": "text/x-python",
   "name": "python",
   "nbconvert_exporter": "python",
   "pygments_lexer": "ipython3",
   "version": "3.8.8"
  }
 },
 "nbformat": 4,
 "nbformat_minor": 5
}
